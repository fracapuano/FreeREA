{
 "cells": [
  {
   "cell_type": "code",
   "execution_count": 3,
   "metadata": {},
   "outputs": [],
   "source": [
    "import numpy as np"
   ]
  },
  {
   "cell_type": "code",
   "execution_count": 15,
   "metadata": {},
   "outputs": [
    {
     "data": {
      "text/plain": [
       "array([[1, 0, 0, ..., 1, 1, 0],\n",
       "       [0, 1, 0, ..., 1, 1, 1],\n",
       "       [0, 0, 1, ..., 1, 1, 0],\n",
       "       ...,\n",
       "       [1, 1, 1, ..., 1, 1, 0],\n",
       "       [1, 1, 1, ..., 1, 1, 0],\n",
       "       [0, 1, 0, ..., 0, 0, 1]])"
      ]
     },
     "execution_count": 15,
     "metadata": {},
     "output_type": "execute_result"
    }
   ],
   "source": [
    "N = 100\n",
    "\n",
    "# Adiacency matrix\n",
    "A = np.random.randint(2, size=(N,N))\n",
    "A = np.triu(A) + np.triu(A, 1).T\n",
    "np.fill_diagonal(A, 1)\n",
    "A"
   ]
  },
  {
   "cell_type": "code",
   "execution_count": 16,
   "metadata": {},
   "outputs": [
    {
     "data": {
      "text/plain": [
       "array([55, 51, 58, 38, 51, 44, 55, 52, 50, 59, 55, 49, 44, 52, 51, 41, 54,\n",
       "       52, 43, 48, 47, 49, 47, 58, 52, 50, 47, 54, 53, 39, 51, 49, 51, 61,\n",
       "       58, 50, 54, 51, 55, 52, 54, 48, 60, 55, 55, 44, 49, 48, 46, 57, 45,\n",
       "       53, 51, 55, 43, 52, 52, 49, 44, 51, 54, 42, 47, 46, 48, 51, 49, 52,\n",
       "       49, 46, 46, 45, 59, 49, 57, 43, 46, 52, 43, 47, 50, 51, 48, 49, 48,\n",
       "       56, 52, 46, 56, 51, 46, 57, 44, 49, 47, 56, 42, 50, 54, 48])"
      ]
     },
     "execution_count": 16,
     "metadata": {},
     "output_type": "execute_result"
    }
   ],
   "source": [
    "# Degree vector\n",
    "d = np.sum(A, axis=1)\n",
    "d"
   ]
  },
  {
   "cell_type": "code",
   "execution_count": 17,
   "metadata": {},
   "outputs": [
    {
     "data": {
      "text/plain": [
       "0.5400000000000001"
      ]
     },
     "execution_count": 17,
     "metadata": {},
     "output_type": "execute_result"
    }
   ],
   "source": [
    "k_max = np.max(d)\n",
    "\n",
    "# Threshold value \n",
    "k_threshold = 50\n",
    "\n",
    "P = 0\n",
    "\n",
    "for k in np.arange(k_threshold,k_max+1):\n",
    "    P_k = np.count_nonzero(d == k)\n",
    "    P += P_k/N\n",
    "\n",
    "P"
   ]
  }
 ],
 "metadata": {
  "kernelspec": {
   "display_name": "myenv",
   "language": "python",
   "name": "python3"
  },
  "language_info": {
   "codemirror_mode": {
    "name": "ipython",
    "version": 3
   },
   "file_extension": ".py",
   "mimetype": "text/x-python",
   "name": "python",
   "nbconvert_exporter": "python",
   "pygments_lexer": "ipython3",
   "version": "3.10.9"
  },
  "orig_nbformat": 4
 },
 "nbformat": 4,
 "nbformat_minor": 2
}
